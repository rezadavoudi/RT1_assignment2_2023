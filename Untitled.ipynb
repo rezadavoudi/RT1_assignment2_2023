{
 "cells": [
  {
   "cell_type": "markdown",
   "id": "c99cd637-eea4-4d0d-b933-e9e47b13a6e9",
   "metadata": {},
   "source": [
    "# Interactive Widget for Setting Goal Coordinates in ROS with Visualization\n",
    "\n",
    "In this notebook, we will use `ipywidgets` to create an interactive user interface that allows the user to input the x and y coordinates of a goal. The coordinates will be used in a ROS node that communicates with an action server to reach the specified goal. We will also visualize the robot's position and velocity in separate windows using `tkinter` and `matplotlib`.\n",
    "\n",
    "## Step 1: Import Libraries and Define ROS Initialization\n",
    "\n",
    "First, we need to import the necessary libraries for our ROS node and visualization.\n",
    "\n"
   ]
  },
  {
   "cell_type": "code",
   "execution_count": 1,
   "id": "079e9565-640c-42e5-8f42-55f5bf517108",
   "metadata": {
    "execution": {
     "iopub.execute_input": "2024-05-31T15:30:58.542441Z",
     "iopub.status.busy": "2024-05-31T15:30:58.542285Z",
     "iopub.status.idle": "2024-05-31T15:30:58.931306Z",
     "shell.execute_reply": "2024-05-31T15:30:58.929794Z",
     "shell.execute_reply.started": "2024-05-31T15:30:58.542428Z"
    }
   },
   "outputs": [],
   "source": [
    "# import libraries and define ros initialization\n",
    "import rospy\n",
    "from nav_msgs.msg import Odometry\n",
    "import actionlib\n",
    "from assignment_2_2023.msg import Vel, PlanningAction, PlanningGoal\n",
    "import ipywidgets as widgets\n",
    "from IPython.display import display, clear_output\n",
    "import matplotlib.pyplot as plt\n",
    "import tkinter as tk\n",
    "from matplotlib.backends.backend_tkagg import FigureCanvasTkAgg\n",
    "import tf\n",
    "from tf.transformations import quaternion_matrix\n",
    "import numpy as np\n",
    "from matplotlib.animation import FuncAnimation\n"
   ]
  },
  {
   "cell_type": "markdown",
   "id": "a08d31b8-4984-47ec-a36a-02c75d9c77d3",
   "metadata": {},
   "source": [
    "## Step 2: ROS Initialization\n",
    "\n",
    "We initialize the ROS node and set up the action client and publisher.\n"
   ]
  },
  {
   "cell_type": "code",
   "execution_count": 2,
   "id": "cc51ec7d-c1ad-4558-9f8c-ab5043e73e35",
   "metadata": {
    "execution": {
     "iopub.execute_input": "2024-05-31T15:30:58.933131Z",
     "iopub.status.busy": "2024-05-31T15:30:58.932459Z",
     "iopub.status.idle": "2024-05-31T15:30:59.155852Z",
     "shell.execute_reply": "2024-05-31T15:30:59.152628Z",
     "shell.execute_reply.started": "2024-05-31T15:30:58.933111Z"
    }
   },
   "outputs": [
    {
     "ename": "NameError",
     "evalue": "name 'client' is not defined",
     "output_type": "error",
     "traceback": [
      "\u001b[0;31m---------------------------------------------------------------------------\u001b[0m",
      "\u001b[0;31mNameError\u001b[0m                                 Traceback (most recent call last)",
      "Cell \u001b[0;32mIn[2], line 10\u001b[0m\n\u001b[1;32m      7\u001b[0m     pub \u001b[38;5;241m=\u001b[39m rospy\u001b[38;5;241m.\u001b[39mPublisher(\u001b[38;5;124m\"\u001b[39m\u001b[38;5;124m/pos_vel\u001b[39m\u001b[38;5;124m\"\u001b[39m, Vel, queue_size\u001b[38;5;241m=\u001b[39m\u001b[38;5;241m1\u001b[39m)\n\u001b[1;32m      9\u001b[0m     \u001b[38;5;28;01mreturn\u001b[39;00m pub, client, goal_cancelled\n\u001b[0;32m---> 10\u001b[0m pub, client, goal_cancelled \u001b[38;5;241m=\u001b[39m \u001b[43mros_components_init\u001b[49m\u001b[43m(\u001b[49m\u001b[43m)\u001b[49m\n",
      "Cell \u001b[0;32mIn[2], line 9\u001b[0m, in \u001b[0;36mros_components_init\u001b[0;34m()\u001b[0m\n\u001b[1;32m      6\u001b[0m goal_cancelled \u001b[38;5;241m=\u001b[39m \u001b[38;5;28;01mFalse\u001b[39;00m\n\u001b[1;32m      7\u001b[0m pub \u001b[38;5;241m=\u001b[39m rospy\u001b[38;5;241m.\u001b[39mPublisher(\u001b[38;5;124m\"\u001b[39m\u001b[38;5;124m/pos_vel\u001b[39m\u001b[38;5;124m\"\u001b[39m, Vel, queue_size\u001b[38;5;241m=\u001b[39m\u001b[38;5;241m1\u001b[39m)\n\u001b[0;32m----> 9\u001b[0m \u001b[38;5;28;01mreturn\u001b[39;00m pub, \u001b[43mclient\u001b[49m, goal_cancelled\n",
      "\u001b[0;31mNameError\u001b[0m: name 'client' is not defined"
     ]
    }
   ],
   "source": [
    "def ros_components_init():\n",
    "    global client\n",
    "    rospy.init_node('set_target_client', anonymous=True)\n",
    "    # client = actionlib.SimpleActionClient('/reaching_goal', PlanningAction)\n",
    "    # client.wait_for_server()\n",
    "    goal_cancelled = False\n",
    "    pub = rospy.Publisher(\"/pos_vel\", Vel, queue_size=1)\n",
    "\n",
    "    return pub, client, goal_cancelled\n",
    "pub, client, goal_cancelled = ros_components_init()\n",
    "    \n"
   ]
  },
  {
   "cell_type": "markdown",
   "id": "db0407a7-d68c-4449-9fbc-d4e66ced0c20",
   "metadata": {},
   "source": [
    "## Step 3: Widget Initialization and Label Update\n",
    "\n",
    "We define the widgets for input and display, and initialize their values.\n"
   ]
  },
  {
   "cell_type": "code",
   "execution_count": null,
   "id": "87cb279c-b2dc-4afe-bd9f-1b1978559f59",
   "metadata": {
    "execution": {
     "iopub.status.busy": "2024-05-31T15:30:59.158245Z",
     "iopub.status.idle": "2024-05-31T15:30:59.159029Z",
     "shell.execute_reply": "2024-05-31T15:30:59.158693Z",
     "shell.execute_reply.started": "2024-05-31T15:30:59.158666Z"
    }
   },
   "outputs": [],
   "source": [
    "# define widget initialization and label update\n",
    "def init_widgets():\n",
    "    global goal_status  # Make goal_status global\n",
    "    pos_label = widgets.Label(value=\"Position: (0.0, 0.0)\")\n",
    "    vel_label = widgets.Label(value=\"Velocity: linear_x=0.0, angular_z=0.0\")\n",
    "    target_label = widgets.Label(value=\"Target: (0.0, 0.0)\")\n",
    "    \n",
    "    goal_x_input = widgets.FloatText(description=\"Goal X:\")\n",
    "    goal_y_input = widgets.FloatText(description=\"Goal Y:\")\n",
    "    set_goal_button = widgets.Button(description=\"Set New Goal\")\n",
    "    cancel_goal_button = widgets.Button(description=\"Cancel Goal\")\n",
    "    goal_status = widgets.Text(value=\"No goal set\", description='Goal Status:', disabled=True)  # Added\n",
    "    \n",
    "    display(pos_label, vel_label, target_label, goal_x_input, goal_y_input, set_goal_button, cancel_goal_button, goal_status)  # Updated display call\n",
    "    \n",
    "    return pos_label, vel_label, target_label, goal_x_input, goal_y_input, set_goal_button, cancel_goal_button, goal_status  # Updated return statement\n",
    "pos_label, vel_label, target_label, goal_x_input, goal_y_input, set_goal_button, cancel_goal_button, goal_status = init_widgets()  # Updated to unpack 8 values\n"
   ]
  },
  {
   "cell_type": "markdown",
   "id": "213474f1-34f2-4cee-bbb6-01d05e1b3e12",
   "metadata": {},
   "source": [
    "## Step 4: Publishing Position and Velocity\n",
    "\n",
    "We define the function to publish the current position and velocity from the Odometry message.\n"
   ]
  },
  {
   "cell_type": "code",
   "execution_count": null,
   "id": "ce388e84-7aef-4eb3-9348-6175aaf0c81c",
   "metadata": {
    "execution": {
     "iopub.status.busy": "2024-05-31T15:30:59.160974Z",
     "iopub.status.idle": "2024-05-31T15:30:59.161329Z",
     "shell.execute_reply": "2024-05-31T15:30:59.161261Z",
     "shell.execute_reply.started": "2024-05-31T15:30:59.161252Z"
    }
   },
   "outputs": [],
   "source": [
    "# publish position and velocity\n",
    "def publish_position_velocity(msg):\n",
    "    global pos_label, vel_label, pub\n",
    "    current_pos = msg.pose.pose.position\n",
    "    current_vel_linear = msg.twist.twist.linear\n",
    "    current_vel_angular = msg.twist.twist.angular\n",
    "    \n",
    "    pos_and_vel = Vel()\n",
    "    pos_and_vel.pos_x = current_pos.x\n",
    "    pos_and_vel.pos_y = current_pos.y\n",
    "    pos_and_vel.vel_x = current_vel_linear.x\n",
    "    pos_and_vel.vel_z = current_vel_angular.z\n",
    "    \n",
    "    pub.publish(pos_and_vel)\n",
    "    \n",
    "    update_labels(current_pos.x, current_pos.y, current_vel_linear.x, current_vel_angular.z, pos_label, vel_label)\n"
   ]
  },
  {
   "cell_type": "markdown",
   "id": "d9321e76-d5e6-4228-ba8e-08a01aaae957",
   "metadata": {},
   "source": [
    "## Step 5: Setting and Canceling Goals\n",
    "\n",
    "We define the functions to set new goals and cancel existing goals.\n"
   ]
  },
  {
   "cell_type": "code",
   "execution_count": null,
   "id": "537bd057-ae81-41f5-81b7-cc07fe2b41d1",
   "metadata": {
    "execution": {
     "iopub.status.busy": "2024-05-31T15:30:59.161956Z",
     "iopub.status.idle": "2024-05-31T15:30:59.162151Z",
     "shell.execute_reply": "2024-05-31T15:30:59.162095Z",
     "shell.execute_reply.started": "2024-05-31T15:30:59.162089Z"
    }
   },
   "outputs": [],
   "source": [
    "# set new goal\n",
    "def set_new_goal(b):\n",
    "    global goal_x_input, goal_y_input, goal_status, goal_cancelled  # Added goal_cancelled\n",
    "    global target_label\n",
    "    global goal_cancelled_flag\n",
    "    input_x = goal_x_input.value\n",
    "    input_y = goal_y_input.value\n",
    "    \n",
    "    rospy.set_param('/des_pos_x', input_x)\n",
    "    rospy.set_param('/des_pos_y', input_y)\n",
    "    \n",
    "    goal = PlanningGoal()\n",
    "    goal.target_pose.pose.position.x = input_x\n",
    "    goal.target_pose.pose.position.y = input_y\n",
    "    print(goal)\n",
    "    client.send_goal(goal, done_cb=goal_done_cb, feedback_cb=goal_feedback_cb)\n",
    "    goal_cancelled = False  # Reset the flag whenever a new goal is set\n",
    "    \n",
    "    target_label.value = f\"Target: ({input_x}, {input_y})\"\n",
    "    goal_status.value = f\"Goal set at ({input_x}, {input_y}, 0)\"  # Update goal status\n",
    "\n",
    "# cancel goal\n",
    "def cancel_goal(b):\n",
    "    global goal_cancelled, goal_status  # Added goal_status\n",
    "    global target_label\n",
    "    if not goal_cancelled:\n",
    "        goal_cancelled = True\n",
    "        client.cancel_goal()\n",
    "        rospy.loginfo(\"Current goal has been cancelled\")\n",
    "        goal_status.value = \"Goal canceled\"  # Update goal status\n",
    "    else:\n",
    "        rospy.loginfo(\"No active goal to cancel\")\n",
    "    \n",
    "    target_label.value = \"Target: (0.0, 0.0)\"\n"
   ]
  },
  {
   "cell_type": "markdown",
   "id": "52171b88-268c-4594-bae3-1cb657e2cca2",
   "metadata": {},
   "source": [
    "## Step 6: Handling Goal Results\n",
    "\n",
    "We define the callback functions to handle goal results and feedback.\n"
   ]
  },
  {
   "cell_type": "code",
   "execution_count": null,
   "id": "a4232e14-e790-41e2-ac73-2acf83c812d3",
   "metadata": {
    "execution": {
     "iopub.status.busy": "2024-05-31T15:30:59.162586Z",
     "iopub.status.idle": "2024-05-31T15:30:59.162848Z",
     "shell.execute_reply": "2024-05-31T15:30:59.162766Z",
     "shell.execute_reply.started": "2024-05-31T15:30:59.162756Z"
    }
   },
   "outputs": [],
   "source": [
    "# handle goal results and feedback\n",
    "target_reached = 0\n",
    "target_canceled = 0\n",
    "\n",
    "def goal_done_cb(state, result):\n",
    "    global target_reached, target_canceled, goal_status  # Added goal_status\n",
    "    if state == actionlib.GoalStatus.SUCCEEDED:\n",
    "        target_reached += 1\n",
    "        goal_status.value = \"Goal reached\"\n",
    "    else:\n",
    "        target_canceled += 1\n",
    "        goal_status.value = \"Goal failed/canceled\"\n",
    "    vix_goals.update(target_reached, target_canceled)  # Update the bar chart\n",
    "\n",
    "def goal_feedback_cb(feedback):\n",
    "    pass\n"
   ]
  },
  {
   "cell_type": "markdown",
   "id": "94347f53-db28-4146-9628-59ea39741b4f",
   "metadata": {},
   "source": [
    "## Step 7: Visualizing Robot Position in a Separate Window\n",
    "\n",
    "We define a class to visualize the robot's position in a separate `tkinter` window.\n"
   ]
  },
  {
   "cell_type": "code",
   "execution_count": null,
   "id": "36729048-f832-4c8f-9cd7-065fee736536",
   "metadata": {
    "execution": {
     "iopub.status.busy": "2024-05-31T15:30:59.163360Z",
     "iopub.status.idle": "2024-05-31T15:30:59.163706Z",
     "shell.execute_reply": "2024-05-31T15:30:59.163647Z",
     "shell.execute_reply.started": "2024-05-31T15:30:59.163639Z"
    }
   },
   "outputs": [],
   "source": [
    "# plot robot position\n",
    "class Visualiser:\n",
    "    def __init__(self, root):\n",
    "        self.root = root\n",
    "        self.root.title(\"Robot Position\")\n",
    "        self.fig, self.ax = plt.subplots()\n",
    "        self.ln, = plt.plot([], [], 'bo')\n",
    "        self.x_data, self.y_data = [], []\n",
    "\n",
    "        self.canvas = FigureCanvasTkAgg(self.fig, master=self.root)\n",
    "        self.canvas.get_tk_widget().pack()\n",
    "\n",
    "    def plot_init(self):\n",
    "        self.ax.set_xlim(-10, 10)\n",
    "        self.ax.set_ylim(-10, 10)\n",
    "        self.ax.grid(True)  # Add grid lines to the plot\n",
    "        return self.ln,\n",
    "        \n",
    "    def odom_callback(self, msg):\n",
    "        self.y_data.append(msg.pose.pose.position.y)\n",
    "        self.x_data.append(msg.pose.pose.position.x)\n",
    "\n",
    "    def update_plot(self, frame):\n",
    "        self.ln.set_data(self.x_data, self.y_data)\n",
    "        return self.ln,\n"
   ]
  },
  {
   "cell_type": "markdown",
   "id": "f3071a3d-9bdc-46da-8e3a-5bb086b202e9",
   "metadata": {},
   "source": [
    "## Step 8: Visualizing Robot Velocity in a Separate Window\n",
    "\n",
    "We define a class to visualize the robot's velocity in a separate `tkinter` window.\n"
   ]
  },
  {
   "cell_type": "code",
   "execution_count": null,
   "id": "92acab57-b82e-42b3-ae30-34451d92906d",
   "metadata": {
    "execution": {
     "iopub.status.busy": "2024-05-31T15:30:59.164118Z",
     "iopub.status.idle": "2024-05-31T15:30:59.164246Z",
     "shell.execute_reply": "2024-05-31T15:30:59.164193Z",
     "shell.execute_reply.started": "2024-05-31T15:30:59.164188Z"
    }
   },
   "outputs": [],
   "source": [
    "# plot robot velocity\n",
    "class VelocityVisualiser:\n",
    "    def __init__(self, root):\n",
    "        self.root = root\n",
    "        self.root.title(\"Robot Velocity\")\n",
    "        self.fig, self.ax = plt.subplots()\n",
    "        self.ln, = plt.plot([], [], 'r')\n",
    "        self.vel_data = []\n",
    "\n",
    "        self.canvas = FigureCanvasTkAgg(self.fig, master=self.root)\n",
    "        self.canvas.get_tk_widget().pack()\n",
    "\n",
    "    def plot_init(self):\n",
    "        self.ax.set_xlim(0, 100)\n",
    "        self.ax.set_ylim(-1, 1)\n",
    "        self.ax.grid(True)  # Add grid lines to the plot\n",
    "        return self.ln,\n",
    "        \n",
    "    def odom_callback(self, msg):\n",
    "        linear_vel = msg.twist.twist.linear.x\n",
    "        self.vel_data.append(linear_vel)\n",
    "        \n",
    "        if len(self.vel_data) > 100:\n",
    "            self.vel_data.pop(0)\n",
    "\n",
    "    def update_plot(self, frame):\n",
    "        self.ln.set_data(range(len(self.vel_data)), self.vel_data)\n",
    "        self.ax.set_xlim(0, len(self.vel_data))\n",
    "        return self.ln,\n"
   ]
  },
  {
   "cell_type": "markdown",
   "id": "8d607dab-36b0-42ab-9e9a-e27cb14e07b4",
   "metadata": {},
   "source": [
    "## Step 9: Visualizing Goal Status in a Separate Window\n",
    "\n",
    "We define a class to visualize the goal status in a separate `tkinter` window.\n"
   ]
  },
  {
   "cell_type": "code",
   "execution_count": null,
   "id": "9b730a94-35c5-4d45-80bb-c3fdddbcee54",
   "metadata": {
    "execution": {
     "iopub.status.busy": "2024-05-31T15:30:59.165240Z",
     "iopub.status.idle": "2024-05-31T15:30:59.165510Z",
     "shell.execute_reply": "2024-05-31T15:30:59.165360Z",
     "shell.execute_reply.started": "2024-05-31T15:30:59.165349Z"
    }
   },
   "outputs": [],
   "source": [
    "# plot goal status\n",
    "class VisualizerGoals:\n",
    "    def __init__(self, root):\n",
    "        self.root = root\n",
    "        self.root.title(\"Goal Status\")\n",
    "        self.fig, self.ax = plt.subplots()\n",
    "        self.res = ['Successful', 'Failed']\n",
    "        self.n_goals = [0, 0]\n",
    "        self.bar_colors = ['tab:green', 'tab:red']\n",
    "        self.bar = self.ax.bar(self.res, self.n_goals, color=self.bar_colors)\n",
    "        self.ax.set_title('Counting the State of the Goals - Successful or Failed')\n",
    "        self.ax.set_ylim(0, 10)  # Adjust this to a reasonable upper limit based on expected number of goals\n",
    "\n",
    "        self.canvas = FigureCanvasTkAgg(self.fig, master=self.root)\n",
    "        self.canvas.get_tk_widget().pack()\n",
    "\n",
    "    def update(self, s, c):\n",
    "        self.n_goals = [s, c]\n",
    "        for bar, height in zip(self.bar, self.n_goals):\n",
    "            bar.set_height(height)\n",
    "        self.ax.relim()\n",
    "        self.ax.autoscale_view()\n",
    "        self.fig.canvas.draw()\n"
   ]
  },
  {
   "cell_type": "markdown",
   "id": "320b449c-23bd-49cd-9380-77ad95485aae",
   "metadata": {},
   "source": [
    "## Step 10: Main Function\n",
    "\n",
    "Finally, we define the main function to initialize the ROS node, set up the subscribers, and run the `tkinter` main loop for each visualization window.\n"
   ]
  },
  {
   "cell_type": "code",
   "execution_count": null,
   "id": "7477617a-833f-4a20-b8e4-0838a063e914",
   "metadata": {
    "execution": {
     "iopub.status.busy": "2024-05-31T15:30:59.166057Z",
     "iopub.status.idle": "2024-05-31T15:30:59.166226Z",
     "shell.execute_reply": "2024-05-31T15:30:59.166148Z",
     "shell.execute_reply.started": "2024-05-31T15:30:59.166140Z"
    }
   },
   "outputs": [],
   "source": [
    "# main function\n",
    "if __name__ == \"__main__\":\n",
    "    \n",
    "    \n",
    "    rospy.Subscriber(\"/odom\", Odometry, publish_position_velocity)\n",
    "\n",
    "    # root_position = tk.Tk()\n",
    "    # vis = Visualiser(root_position)\n",
    "    # sub1 = rospy.Subscriber('/odom', Odometry, vis.odom_callback)\n",
    "    # ani1 = FuncAnimation(vis.fig, vis.update_plot, init_func=vis.plot_init)\n",
    "\n",
    "    # root_velocity = tk.Tk()\n",
    "    # vel_vis = VelocityVisualiser(root_velocity)\n",
    "    # sub2 = rospy.Subscriber('/odom', Odometry, vel_vis.odom_callback)\n",
    "    # ani2 = FuncAnimation(vel_vis.fig, vel_vis.update_plot, init_func=vel_vis.plot_init)\n",
    "\n",
    "    # root_goals = tk.Tk()\n",
    "    # vix_goals = VisualizerGoals(root_goals)\n",
    "    \n",
    "    set_goal_button.on_click(set_new_goal)\n",
    "    cancel_goal_button.on_click(cancel_goal)\n",
    "    \n",
    "    # root_position.mainloop()\n",
    "    # root_velocity.mainloop()\n",
    "    # root_goals.mainloop()\n"
   ]
  }
 ],
 "metadata": {
  "kernelspec": {
   "display_name": "Python 3 (ipykernel)",
   "language": "python",
   "name": "python3"
  },
  "language_info": {
   "codemirror_mode": {
    "name": "ipython",
    "version": 3
   },
   "file_extension": ".py",
   "mimetype": "text/x-python",
   "name": "python",
   "nbconvert_exporter": "python",
   "pygments_lexer": "ipython3",
   "version": "3.8.10"
  }
 },
 "nbformat": 4,
 "nbformat_minor": 5
}
